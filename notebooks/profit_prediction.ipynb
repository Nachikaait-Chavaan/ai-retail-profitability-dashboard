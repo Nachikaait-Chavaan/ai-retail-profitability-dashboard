{
 "cells": [
  {
   "cell_type": "code",
   "execution_count": 4,
   "id": "97f0ee07",
   "metadata": {},
   "outputs": [
    {
     "name": "stdout",
     "output_type": "stream",
     "text": [
      "Root Mean Squared Error (RMSE): 391.67\n",
      "Root Mean Squared Error (RMSE): 391.67\n",
      "✅ Predicted profits saved to data/processed/predicted_profits.csv\n"
     ]
    }
   ],
   "source": [
    "import pandas as pd\n",
    "from sklearn.model_selection import train_test_split\n",
    "from sklearn.linear_model import LinearRegression\n",
    "from sklearn.metrics import mean_squared_error\n",
    "df = pd.read_csv('../data/processed/final_data.csv')\n",
    "df.head()\n",
    "features = ['Price', 'Quantity', 'Cost Price']\n",
    "X = df[features]\n",
    "y = df['Profit']\n",
    "X_train, X_test, y_train, y_test = train_test_split(X, y, test_size=0.2, random_state=42)\n",
    "model = LinearRegression()\n",
    "model.fit(X_train, y_train)\n",
    "y_pred = model.predict(X_test)\n",
    "from math import sqrt\n",
    "\n",
    "rmse = sqrt(mean_squared_error(y_test, y_pred))\n",
    "print(\"Root Mean Squared Error (RMSE):\", round(rmse, 2))\n",
    "\n",
    "print(\"Root Mean Squared Error (RMSE):\", round(rmse, 2))\n",
    "df['Predicted Profit'] = model.predict(X)\n",
    "df.head()\n",
    "df.to_csv('../data/processed/predicted_profits.csv', index=False)\n",
    "print(\"✅ Predicted profits saved to data/processed/predicted_profits.csv\")\n"
   ]
  }
 ],
 "metadata": {
  "kernelspec": {
   "display_name": "Python 3",
   "language": "python",
   "name": "python3"
  },
  "language_info": {
   "codemirror_mode": {
    "name": "ipython",
    "version": 3
   },
   "file_extension": ".py",
   "mimetype": "text/x-python",
   "name": "python",
   "nbconvert_exporter": "python",
   "pygments_lexer": "ipython3",
   "version": "3.11.4"
  }
 },
 "nbformat": 4,
 "nbformat_minor": 5
}
